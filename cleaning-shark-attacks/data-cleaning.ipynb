{
 "cells": [
  {
   "cell_type": "code",
   "execution_count": 1,
   "metadata": {},
   "outputs": [],
   "source": [
    "import pandas as pd\n",
    "import numpy as np\n",
    "import seaborn as sns\n",
    "import matplotlib.pyplot as plt\n",
    "%matplotlib inline\n",
    "import datetime\n",
    "import re"
   ]
  },
  {
   "cell_type": "code",
   "execution_count": 2,
   "metadata": {},
   "outputs": [],
   "source": [
    "path = '../data/shark_attacks.csv'\n",
    "df = pd.read_csv(path, index_col=[0])"
   ]
  },
  {
   "cell_type": "markdown",
   "metadata": {},
   "source": [
    "# Drop NaN rows"
   ]
  },
  {
   "cell_type": "code",
   "execution_count": 3,
   "metadata": {},
   "outputs": [
    {
     "data": {
      "text/html": [
       "<div>\n",
       "<style scoped>\n",
       "    .dataframe tbody tr th:only-of-type {\n",
       "        vertical-align: middle;\n",
       "    }\n",
       "\n",
       "    .dataframe tbody tr th {\n",
       "        vertical-align: top;\n",
       "    }\n",
       "\n",
       "    .dataframe thead th {\n",
       "        text-align: right;\n",
       "    }\n",
       "</style>\n",
       "<table border=\"1\" class=\"dataframe\">\n",
       "  <thead>\n",
       "    <tr style=\"text-align: right;\">\n",
       "      <th></th>\n",
       "      <th>Case Number</th>\n",
       "      <th>Date</th>\n",
       "      <th>Year</th>\n",
       "      <th>Type</th>\n",
       "      <th>Country</th>\n",
       "      <th>Area</th>\n",
       "      <th>Location</th>\n",
       "      <th>Activity</th>\n",
       "      <th>Name</th>\n",
       "      <th>Sex</th>\n",
       "      <th>...</th>\n",
       "      <th>Fatal (Y/N)</th>\n",
       "      <th>Time</th>\n",
       "      <th>Species</th>\n",
       "      <th>Investigator or Source</th>\n",
       "      <th>pdf</th>\n",
       "      <th>href formula</th>\n",
       "      <th>href</th>\n",
       "      <th>Case Number.1</th>\n",
       "      <th>Case Number.2</th>\n",
       "      <th>original order</th>\n",
       "    </tr>\n",
       "  </thead>\n",
       "  <tbody>\n",
       "    <tr>\n",
       "      <th>5484</th>\n",
       "      <td>1906.01.20</td>\n",
       "      <td>20-Jan-1906</td>\n",
       "      <td>1906.0</td>\n",
       "      <td>Unprovoked</td>\n",
       "      <td>SOUTH AFRICA</td>\n",
       "      <td>KwaZulu-Natal</td>\n",
       "      <td>Battery Beach, Durban</td>\n",
       "      <td>Washing horses</td>\n",
       "      <td>Ramdayal</td>\n",
       "      <td>M</td>\n",
       "      <td>...</td>\n",
       "      <td>Y</td>\n",
       "      <td>12h00</td>\n",
       "      <td>1.8 m to 2.7 m [6' to 9'] shark</td>\n",
       "      <td>Natal Mercury Pictorial, 1/31/1906; M. Levine,...</td>\n",
       "      <td>1906.01.20-Ramdayal.pdf</td>\n",
       "      <td>http://sharkattackfile.net/spreadsheets/pdf_di...</td>\n",
       "      <td>http://sharkattackfile.net/spreadsheets/pdf_di...</td>\n",
       "      <td>1906.01.20</td>\n",
       "      <td>1906.01.20</td>\n",
       "      <td>819.0</td>\n",
       "    </tr>\n",
       "    <tr>\n",
       "      <th>5498</th>\n",
       "      <td>1905.03.26</td>\n",
       "      <td>26-Mar-1905</td>\n",
       "      <td>1905.0</td>\n",
       "      <td>Unprovoked</td>\n",
       "      <td>AUSTRALIA</td>\n",
       "      <td>New South Wales</td>\n",
       "      <td>Lismore</td>\n",
       "      <td>Bathing</td>\n",
       "      <td>Richard Owen</td>\n",
       "      <td>M</td>\n",
       "      <td>...</td>\n",
       "      <td>N</td>\n",
       "      <td>Morning</td>\n",
       "      <td>5' shark</td>\n",
       "      <td>Adelaide Advertiser, 3/31/1905</td>\n",
       "      <td>1905.03.26-Owen.pdf</td>\n",
       "      <td>http://sharkattackfile.net/spreadsheets/pdf_di...</td>\n",
       "      <td>http://sharkattackfile.net/spreadsheets/pdf_di...</td>\n",
       "      <td>1905.03.26</td>\n",
       "      <td>1905.03.26</td>\n",
       "      <td>805.0</td>\n",
       "    </tr>\n",
       "    <tr>\n",
       "      <th>5545</th>\n",
       "      <td>1901.07.30</td>\n",
       "      <td>30-Jul-1901</td>\n",
       "      <td>1901.0</td>\n",
       "      <td>Unprovoked</td>\n",
       "      <td>SOUTH AFRICA</td>\n",
       "      <td>Western Cape Province</td>\n",
       "      <td>Windmill Beach</td>\n",
       "      <td>Swimming</td>\n",
       "      <td>John Hendrick Adrian Chandler, a prisoner of war</td>\n",
       "      <td>M</td>\n",
       "      <td>...</td>\n",
       "      <td>Y</td>\n",
       "      <td>14h15</td>\n",
       "      <td>White shark</td>\n",
       "      <td>M. Levine, GSAF</td>\n",
       "      <td>1901.07.30-Chandler.pdf</td>\n",
       "      <td>http://sharkattackfile.net/spreadsheets/pdf_di...</td>\n",
       "      <td>http://sharkattackfile.net/spreadsheets/pdf_di...</td>\n",
       "      <td>1901.07.30</td>\n",
       "      <td>1901.07.30</td>\n",
       "      <td>758.0</td>\n",
       "    </tr>\n",
       "    <tr>\n",
       "      <th>5648</th>\n",
       "      <td>1894.11.28</td>\n",
       "      <td>28-Nov-1894</td>\n",
       "      <td>1894.0</td>\n",
       "      <td>Unprovoked</td>\n",
       "      <td>AUSTRALIA</td>\n",
       "      <td>New South Wales</td>\n",
       "      <td>Newcastle</td>\n",
       "      <td>Bathing</td>\n",
       "      <td>Horace Hewison</td>\n",
       "      <td>M</td>\n",
       "      <td>...</td>\n",
       "      <td>N</td>\n",
       "      <td>Morning</td>\n",
       "      <td>10' to 12' shark</td>\n",
       "      <td>Brisbane Courier, 1/7/1895, p.5</td>\n",
       "      <td>1894.11.28-Hewison.pdf</td>\n",
       "      <td>http://sharkattackfile.net/spreadsheets/pdf_di...</td>\n",
       "      <td>http://sharkattackfile.net/spreadsheets/pdf_di...</td>\n",
       "      <td>1894.11.28</td>\n",
       "      <td>1894.11.28</td>\n",
       "      <td>655.0</td>\n",
       "    </tr>\n",
       "    <tr>\n",
       "      <th>5684</th>\n",
       "      <td>1892.03.02</td>\n",
       "      <td>02-Mar-1892</td>\n",
       "      <td>1892.0</td>\n",
       "      <td>Provoked</td>\n",
       "      <td>AUSTRALIA</td>\n",
       "      <td>New South Wales</td>\n",
       "      <td>Lake Macquarie</td>\n",
       "      <td>Fishing</td>\n",
       "      <td>Christopher Wang</td>\n",
       "      <td>M</td>\n",
       "      <td>...</td>\n",
       "      <td>N</td>\n",
       "      <td>Night</td>\n",
       "      <td>12' shark</td>\n",
       "      <td>The Argus, 3/4/1892</td>\n",
       "      <td>1892.03.02-Wang.pdf</td>\n",
       "      <td>http://sharkattackfile.net/spreadsheets/pdf_di...</td>\n",
       "      <td>http://sharkattackfile.net/spreadsheets/pdf_di...</td>\n",
       "      <td>1892.03.02</td>\n",
       "      <td>1892.03.02</td>\n",
       "      <td>619.0</td>\n",
       "    </tr>\n",
       "    <tr>\n",
       "      <th>5814</th>\n",
       "      <td>1880.11.25</td>\n",
       "      <td>25-Nov-1880</td>\n",
       "      <td>1880.0</td>\n",
       "      <td>Unprovoked</td>\n",
       "      <td>AUSTRALIA</td>\n",
       "      <td>Queensland</td>\n",
       "      <td>Petrie Bight, Brisbane River</td>\n",
       "      <td>Swimming</td>\n",
       "      <td>Alexey Drury</td>\n",
       "      <td>M</td>\n",
       "      <td>...</td>\n",
       "      <td>Y</td>\n",
       "      <td>Afternoon</td>\n",
       "      <td>Bull shark</td>\n",
       "      <td>Bucks County Gazette, 2/10/1881, Sunday Mail (...</td>\n",
       "      <td>1880.11.25-AlexeyDrury.pdf</td>\n",
       "      <td>http://sharkattackfile.net/spreadsheets/pdf_di...</td>\n",
       "      <td>http://sharkattackfile.net/spreadsheets/pdf_di...</td>\n",
       "      <td>1880.11.25</td>\n",
       "      <td>1880.11.25</td>\n",
       "      <td>489.0</td>\n",
       "    </tr>\n",
       "    <tr>\n",
       "      <th>5922</th>\n",
       "      <td>1868.05.13</td>\n",
       "      <td>13-May-1868</td>\n",
       "      <td>1868.0</td>\n",
       "      <td>Unprovoked</td>\n",
       "      <td>INDIA</td>\n",
       "      <td>Hoogly River</td>\n",
       "      <td>Ghat</td>\n",
       "      <td>Standing</td>\n",
       "      <td>male</td>\n",
       "      <td>M</td>\n",
       "      <td>...</td>\n",
       "      <td>Y</td>\n",
       "      <td>Before 10h30</td>\n",
       "      <td>Identified as C. gangeticus by Dr. J. Fayrer</td>\n",
       "      <td>J. Fayrer, M.D.</td>\n",
       "      <td>1868.05.13-Hindoo.pdf</td>\n",
       "      <td>http://sharkattackfile.net/spreadsheets/pdf_di...</td>\n",
       "      <td>http://sharkattackfile.net/spreadsheets/pdf_di...</td>\n",
       "      <td>1868.05.13</td>\n",
       "      <td>1868.05.13</td>\n",
       "      <td>381.0</td>\n",
       "    </tr>\n",
       "    <tr>\n",
       "      <th>6242</th>\n",
       "      <td>ND.0064</td>\n",
       "      <td>1960s</td>\n",
       "      <td>0.0</td>\n",
       "      <td>Unprovoked</td>\n",
       "      <td>IRAQ</td>\n",
       "      <td>Basrah</td>\n",
       "      <td>Shatt-al-Arab River</td>\n",
       "      <td>Swimming naked near a date palm where many dat...</td>\n",
       "      <td>male</td>\n",
       "      <td>M</td>\n",
       "      <td>...</td>\n",
       "      <td>N</td>\n",
       "      <td>Afternoon</td>\n",
       "      <td>Bull shark</td>\n",
       "      <td>B.W. Coad &amp; L.A.J. Al-Hassan</td>\n",
       "      <td>ND-0064-Shatt-al-Arab.pdf</td>\n",
       "      <td>http://sharkattackfile.net/spreadsheets/pdf_di...</td>\n",
       "      <td>http://sharkattackfile.net/spreadsheets/pdf_di...</td>\n",
       "      <td>ND.0064</td>\n",
       "      <td>ND.0064</td>\n",
       "      <td>61.0</td>\n",
       "    </tr>\n",
       "    <tr>\n",
       "      <th>6243</th>\n",
       "      <td>ND.0063</td>\n",
       "      <td>1960s</td>\n",
       "      <td>0.0</td>\n",
       "      <td>Unprovoked</td>\n",
       "      <td>IRAQ</td>\n",
       "      <td>Basrah</td>\n",
       "      <td>Shatt-al-Arab River near Abu al Khasib</td>\n",
       "      <td>Swimming in section of river used for washing ...</td>\n",
       "      <td>male</td>\n",
       "      <td>M</td>\n",
       "      <td>...</td>\n",
       "      <td>N</td>\n",
       "      <td>Afternoon</td>\n",
       "      <td>Bull shark</td>\n",
       "      <td>B.W. Coad &amp; L.A.J. Al-Hassan</td>\n",
       "      <td>ND-0063-Shatt-al-Arab.pdf</td>\n",
       "      <td>http://sharkattackfile.net/spreadsheets/pdf_di...</td>\n",
       "      <td>http://sharkattackfile.net/spreadsheets/pdf_di...</td>\n",
       "      <td>ND.0063</td>\n",
       "      <td>ND.0063</td>\n",
       "      <td>60.0</td>\n",
       "    </tr>\n",
       "    <tr>\n",
       "      <th>6265</th>\n",
       "      <td>ND.0038</td>\n",
       "      <td>1941-1942</td>\n",
       "      <td>0.0</td>\n",
       "      <td>Unprovoked</td>\n",
       "      <td>IRAQ</td>\n",
       "      <td>Basrah</td>\n",
       "      <td>Shatt-el Arab River near a small boat stand</td>\n",
       "      <td>Swimming</td>\n",
       "      <td>male</td>\n",
       "      <td>M</td>\n",
       "      <td>...</td>\n",
       "      <td>Y</td>\n",
       "      <td>Afternoon</td>\n",
       "      <td>Bull shark</td>\n",
       "      <td>B.W. Coad &amp; L.A.J. Al-Hassan</td>\n",
       "      <td>ND-0038-Shatt-al-Arab.pdf</td>\n",
       "      <td>http://sharkattackfile.net/spreadsheets/pdf_di...</td>\n",
       "      <td>http://sharkattackfile.net/spreadsheets/pdf_di...</td>\n",
       "      <td>ND.0038</td>\n",
       "      <td>ND.0038</td>\n",
       "      <td>38.0</td>\n",
       "    </tr>\n",
       "  </tbody>\n",
       "</table>\n",
       "<p>10 rows × 22 columns</p>\n",
       "</div>"
      ],
      "text/plain": [
       "     Case Number         Date    Year        Type       Country  \\\n",
       "5484  1906.01.20  20-Jan-1906  1906.0  Unprovoked  SOUTH AFRICA   \n",
       "5498  1905.03.26  26-Mar-1905  1905.0  Unprovoked     AUSTRALIA   \n",
       "5545  1901.07.30  30-Jul-1901  1901.0  Unprovoked  SOUTH AFRICA   \n",
       "5648  1894.11.28  28-Nov-1894  1894.0  Unprovoked     AUSTRALIA   \n",
       "5684  1892.03.02  02-Mar-1892  1892.0    Provoked     AUSTRALIA   \n",
       "5814  1880.11.25  25-Nov-1880  1880.0  Unprovoked     AUSTRALIA   \n",
       "5922  1868.05.13  13-May-1868  1868.0  Unprovoked         INDIA   \n",
       "6242     ND.0064        1960s     0.0  Unprovoked          IRAQ   \n",
       "6243     ND.0063        1960s     0.0  Unprovoked          IRAQ   \n",
       "6265     ND.0038    1941-1942     0.0  Unprovoked          IRAQ   \n",
       "\n",
       "                       Area                                     Location  \\\n",
       "5484          KwaZulu-Natal                        Battery Beach, Durban   \n",
       "5498        New South Wales                                      Lismore   \n",
       "5545  Western Cape Province                               Windmill Beach   \n",
       "5648        New South Wales                                   Newcastle    \n",
       "5684        New South Wales                               Lake Macquarie   \n",
       "5814             Queensland                 Petrie Bight, Brisbane River   \n",
       "5922           Hoogly River                                         Ghat   \n",
       "6242                 Basrah                         Shatt-al-Arab River    \n",
       "6243                 Basrah       Shatt-al-Arab River near Abu al Khasib   \n",
       "6265                 Basrah  Shatt-el Arab River near a small boat stand   \n",
       "\n",
       "                                               Activity  \\\n",
       "5484                                     Washing horses   \n",
       "5498                                            Bathing   \n",
       "5545                                           Swimming   \n",
       "5648                                            Bathing   \n",
       "5684                                            Fishing   \n",
       "5814                                           Swimming   \n",
       "5922                                           Standing   \n",
       "6242  Swimming naked near a date palm where many dat...   \n",
       "6243  Swimming in section of river used for washing ...   \n",
       "6265                                           Swimming   \n",
       "\n",
       "                                                  Name Sex   ... Fatal (Y/N)  \\\n",
       "5484                                          Ramdayal    M  ...           Y   \n",
       "5498                                      Richard Owen    M  ...           N   \n",
       "5545  John Hendrick Adrian Chandler, a prisoner of war    M  ...           Y   \n",
       "5648                                    Horace Hewison    M  ...           N   \n",
       "5684                                  Christopher Wang    M  ...           N   \n",
       "5814                                      Alexey Drury    M  ...           Y   \n",
       "5922                                              male    M  ...           Y   \n",
       "6242                                              male    M  ...           N   \n",
       "6243                                              male    M  ...           N   \n",
       "6265                                              male    M  ...           Y   \n",
       "\n",
       "              Time                                      Species   \\\n",
       "5484         12h00               1.8 m to 2.7 m [6' to 9'] shark   \n",
       "5498       Morning                                      5' shark   \n",
       "5545         14h15                                   White shark   \n",
       "5648       Morning                              10' to 12' shark   \n",
       "5684         Night                                     12' shark   \n",
       "5814     Afternoon                                    Bull shark   \n",
       "5922  Before 10h30  Identified as C. gangeticus by Dr. J. Fayrer   \n",
       "6242     Afternoon                                    Bull shark   \n",
       "6243     Afternoon                                    Bull shark   \n",
       "6265     Afternoon                                    Bull shark   \n",
       "\n",
       "                                 Investigator or Source  \\\n",
       "5484  Natal Mercury Pictorial, 1/31/1906; M. Levine,...   \n",
       "5498                     Adelaide Advertiser, 3/31/1905   \n",
       "5545                                    M. Levine, GSAF   \n",
       "5648                    Brisbane Courier, 1/7/1895, p.5   \n",
       "5684                                The Argus, 3/4/1892   \n",
       "5814  Bucks County Gazette, 2/10/1881, Sunday Mail (...   \n",
       "5922                                    J. Fayrer, M.D.   \n",
       "6242                       B.W. Coad & L.A.J. Al-Hassan   \n",
       "6243                       B.W. Coad & L.A.J. Al-Hassan   \n",
       "6265                       B.W. Coad & L.A.J. Al-Hassan   \n",
       "\n",
       "                             pdf  \\\n",
       "5484     1906.01.20-Ramdayal.pdf   \n",
       "5498         1905.03.26-Owen.pdf   \n",
       "5545     1901.07.30-Chandler.pdf   \n",
       "5648      1894.11.28-Hewison.pdf   \n",
       "5684         1892.03.02-Wang.pdf   \n",
       "5814  1880.11.25-AlexeyDrury.pdf   \n",
       "5922       1868.05.13-Hindoo.pdf   \n",
       "6242   ND-0064-Shatt-al-Arab.pdf   \n",
       "6243   ND-0063-Shatt-al-Arab.pdf   \n",
       "6265   ND-0038-Shatt-al-Arab.pdf   \n",
       "\n",
       "                                           href formula  \\\n",
       "5484  http://sharkattackfile.net/spreadsheets/pdf_di...   \n",
       "5498  http://sharkattackfile.net/spreadsheets/pdf_di...   \n",
       "5545  http://sharkattackfile.net/spreadsheets/pdf_di...   \n",
       "5648  http://sharkattackfile.net/spreadsheets/pdf_di...   \n",
       "5684  http://sharkattackfile.net/spreadsheets/pdf_di...   \n",
       "5814  http://sharkattackfile.net/spreadsheets/pdf_di...   \n",
       "5922  http://sharkattackfile.net/spreadsheets/pdf_di...   \n",
       "6242  http://sharkattackfile.net/spreadsheets/pdf_di...   \n",
       "6243  http://sharkattackfile.net/spreadsheets/pdf_di...   \n",
       "6265  http://sharkattackfile.net/spreadsheets/pdf_di...   \n",
       "\n",
       "                                                   href Case Number.1  \\\n",
       "5484  http://sharkattackfile.net/spreadsheets/pdf_di...    1906.01.20   \n",
       "5498  http://sharkattackfile.net/spreadsheets/pdf_di...    1905.03.26   \n",
       "5545  http://sharkattackfile.net/spreadsheets/pdf_di...    1901.07.30   \n",
       "5648  http://sharkattackfile.net/spreadsheets/pdf_di...    1894.11.28   \n",
       "5684  http://sharkattackfile.net/spreadsheets/pdf_di...    1892.03.02   \n",
       "5814  http://sharkattackfile.net/spreadsheets/pdf_di...    1880.11.25   \n",
       "5922  http://sharkattackfile.net/spreadsheets/pdf_di...    1868.05.13   \n",
       "6242  http://sharkattackfile.net/spreadsheets/pdf_di...       ND.0064   \n",
       "6243  http://sharkattackfile.net/spreadsheets/pdf_di...       ND.0063   \n",
       "6265  http://sharkattackfile.net/spreadsheets/pdf_di...       ND.0038   \n",
       "\n",
       "     Case Number.2 original order  \n",
       "5484    1906.01.20          819.0  \n",
       "5498    1905.03.26          805.0  \n",
       "5545    1901.07.30          758.0  \n",
       "5648    1894.11.28          655.0  \n",
       "5684    1892.03.02          619.0  \n",
       "5814    1880.11.25          489.0  \n",
       "5922    1868.05.13          381.0  \n",
       "6242       ND.0064           61.0  \n",
       "6243       ND.0063           60.0  \n",
       "6265       ND.0038           38.0  \n",
       "\n",
       "[10 rows x 22 columns]"
      ]
     },
     "execution_count": 3,
     "metadata": {},
     "output_type": "execute_result"
    }
   ],
   "source": [
    "df = df.dropna()\n",
    "df.head()\n",
    "df.tail(10)"
   ]
  },
  {
   "cell_type": "markdown",
   "metadata": {},
   "source": [
    "# Looking into 'Year'"
   ]
  },
  {
   "cell_type": "code",
   "execution_count": 4,
   "metadata": {},
   "outputs": [],
   "source": [
    "years = df['Year'].unique()"
   ]
  },
  {
   "cell_type": "code",
   "execution_count": 5,
   "metadata": {},
   "outputs": [
    {
     "data": {
      "text/plain": [
       "array([   0., 1868., 1880., 1892., 1894., 1901., 1905., 1906., 1912.,\n",
       "       1916., 1919., 1922., 1924., 1925., 1926., 1927., 1928., 1929.,\n",
       "       1930., 1931., 1932., 1934., 1935., 1936., 1937., 1938., 1939.,\n",
       "       1940., 1941., 1942., 1943., 1944., 1945., 1946., 1947., 1948.,\n",
       "       1949., 1950., 1951., 1952., 1953., 1954., 1955., 1956., 1957.,\n",
       "       1958., 1959., 1960., 1961., 1962., 1963., 1964., 1965., 1966.,\n",
       "       1967., 1968., 1969., 1970., 1971., 1972., 1973., 1974., 1975.,\n",
       "       1976., 1977., 1978., 1979., 1980., 1981., 1982., 1983., 1984.,\n",
       "       1985., 1986., 1987., 1988., 1989., 1990., 1991., 1992., 1993.,\n",
       "       1994., 1995., 1996., 1997., 1998., 1999., 2000., 2001., 2002.,\n",
       "       2003., 2004., 2005., 2006., 2007., 2008., 2009., 2010., 2011.,\n",
       "       2012., 2013., 2014., 2015., 2016., 2017., 2018.])"
      ]
     },
     "execution_count": 5,
     "metadata": {},
     "output_type": "execute_result"
    }
   ],
   "source": [
    "years.sort()\n",
    "years"
   ]
  },
  {
   "cell_type": "code",
   "execution_count": 6,
   "metadata": {},
   "outputs": [
    {
     "data": {
      "text/plain": [
       "2015.0    63\n",
       "2012.0    54\n",
       "2002.0    53\n",
       "2007.0    52\n",
       "2013.0    49\n",
       "          ..\n",
       "1937.0     5\n",
       "1969.0     5\n",
       "1977.0     5\n",
       "1947.0     5\n",
       "1951.0     5\n",
       "Name: Year, Length: 66, dtype: int64"
      ]
     },
     "execution_count": 6,
     "metadata": {},
     "output_type": "execute_result"
    }
   ],
   "source": [
    "year_serie = df['Year'].value_counts()\n",
    "year_serie[year_serie >= 5]"
   ]
  },
  {
   "cell_type": "code",
   "execution_count": 7,
   "metadata": {},
   "outputs": [
    {
     "data": {
      "image/png": "[encoded data removed]",
      "text/plain": [
       "<Figure size 864x288 with 1 Axes>"
      ]
     },
     "metadata": {},
     "output_type": "display_data"
    }
   ],
   "source": [
    "plt.style.use('dark_background')\n",
    "fig = plt.figure(figsize=(12,4))\n",
    "ax = plt.subplot()\n",
    "sns.histplot(df, x='Year')\n",
    "plt.xlim(1920, df['Year'].max())\n",
    "plt.title('Shark attacks per year')\n",
    "plt.show()"
   ]
  },
  {
   "cell_type": "markdown",
   "metadata": {},
   "source": [
    "# Looking into 'Country'"
   ]
  },
  {
   "cell_type": "code",
   "execution_count": 8,
   "metadata": {},
   "outputs": [
    {
     "data": {
      "text/html": [
       "<div>\n",
       "<style scoped>\n",
       "    .dataframe tbody tr th:only-of-type {\n",
       "        vertical-align: middle;\n",
       "    }\n",
       "\n",
       "    .dataframe tbody tr th {\n",
       "        vertical-align: top;\n",
       "    }\n",
       "\n",
       "    .dataframe thead th {\n",
       "        text-align: right;\n",
       "    }\n",
       "</style>\n",
       "<table border=\"1\" class=\"dataframe\">\n",
       "  <thead>\n",
       "    <tr style=\"text-align: right;\">\n",
       "      <th></th>\n",
       "      <th>Country</th>\n",
       "    </tr>\n",
       "  </thead>\n",
       "  <tbody>\n",
       "    <tr>\n",
       "      <th>USA</th>\n",
       "      <td>675</td>\n",
       "    </tr>\n",
       "    <tr>\n",
       "      <th>AUSTRALIA</th>\n",
       "      <td>307</td>\n",
       "    </tr>\n",
       "    <tr>\n",
       "      <th>SOUTH AFRICA</th>\n",
       "      <td>215</td>\n",
       "    </tr>\n",
       "    <tr>\n",
       "      <th>BAHAMAS</th>\n",
       "      <td>25</td>\n",
       "    </tr>\n",
       "    <tr>\n",
       "      <th>NEW ZEALAND</th>\n",
       "      <td>20</td>\n",
       "    </tr>\n",
       "    <tr>\n",
       "      <th>REUNION</th>\n",
       "      <td>15</td>\n",
       "    </tr>\n",
       "    <tr>\n",
       "      <th>BRAZIL</th>\n",
       "      <td>15</td>\n",
       "    </tr>\n",
       "    <tr>\n",
       "      <th>PAPUA NEW GUINEA</th>\n",
       "      <td>12</td>\n",
       "    </tr>\n",
       "    <tr>\n",
       "      <th>MEXICO</th>\n",
       "      <td>11</td>\n",
       "    </tr>\n",
       "    <tr>\n",
       "      <th>NEW CALEDONIA</th>\n",
       "      <td>10</td>\n",
       "    </tr>\n",
       "    <tr>\n",
       "      <th>EGYPT</th>\n",
       "      <td>9</td>\n",
       "    </tr>\n",
       "    <tr>\n",
       "      <th>FRENCH POLYNESIA</th>\n",
       "      <td>8</td>\n",
       "    </tr>\n",
       "    <tr>\n",
       "      <th>FIJI</th>\n",
       "      <td>7</td>\n",
       "    </tr>\n",
       "    <tr>\n",
       "      <th>ITALY</th>\n",
       "      <td>7</td>\n",
       "    </tr>\n",
       "    <tr>\n",
       "      <th>MOZAMBIQUE</th>\n",
       "      <td>7</td>\n",
       "    </tr>\n",
       "    <tr>\n",
       "      <th>IRAQ</th>\n",
       "      <td>5</td>\n",
       "    </tr>\n",
       "  </tbody>\n",
       "</table>\n",
       "</div>"
      ],
      "text/plain": [
       "                  Country\n",
       "USA                   675\n",
       "AUSTRALIA             307\n",
       "SOUTH AFRICA          215\n",
       "BAHAMAS                25\n",
       "NEW ZEALAND            20\n",
       "REUNION                15\n",
       "BRAZIL                 15\n",
       "PAPUA NEW GUINEA       12\n",
       "MEXICO                 11\n",
       "NEW CALEDONIA          10\n",
       "EGYPT                   9\n",
       "FRENCH POLYNESIA        8\n",
       "FIJI                    7\n",
       "ITALY                   7\n",
       "MOZAMBIQUE              7\n",
       "IRAQ                    5"
      ]
     },
     "execution_count": 8,
     "metadata": {},
     "output_type": "execute_result"
    }
   ],
   "source": [
    "country_serie = df['Country'].value_counts()\n",
    "country_serie = country_serie[country_serie >= 5]\n",
    "country_data = country_serie.to_frame()\n",
    "country_data"
   ]
  },
  {
   "cell_type": "code",
   "execution_count": 9,
   "metadata": {},
   "outputs": [
    {
     "data": {
      "text/plain": [
       "(array(['USA', 'BRAZIL', 'AUSTRALIA', 'ENGLAND', 'COSTA RICA', 'MALDIVES',\n",
       "        'SOUTH AFRICA', 'CUBA', 'BAHAMAS', 'INDONESIA', 'SPAIN', 'EGYPT',\n",
       "        'NEW ZEALAND', 'FRENCH POLYNESIA', 'NEW CALEDONIA', 'ECUADOR',\n",
       "        'THAILAND', 'REUNION', 'MEXICO', 'JAMAICA', 'ITALY',\n",
       "        'PAPUA NEW GUINEA', 'RUSSIA', 'SEYCHELLES', 'VIETNAM',\n",
       "        'MOZAMBIQUE', 'SCOTLAND', 'UNITED KINGDOM', 'TAIWAN', 'GUAM',\n",
       "        'CROATIA', 'FIJI', 'TONGA', 'ST. MAARTIN', 'GRAND CAYMAN',\n",
       "        'VANUATU', 'VENEZUELA', 'TURKS & CAICOS', 'OKINAWA',\n",
       "        'MARSHALL ISLANDS', 'HONG KONG', 'JAPAN', 'SOUTH KOREA', 'ISRAEL',\n",
       "        'MICRONESIA', 'COLUMBIA', 'NEW BRITAIN', 'PALAU',\n",
       "        'SOLOMON ISLANDS', 'FEDERATED STATES OF MICRONESIA', 'GREECE',\n",
       "        'BRITISH WEST INDIES', 'NORTH PACIFIC OCEAN', 'BERMUDA',\n",
       "        'AMERICAN SAMOA', 'PACIFIC OCEAN', 'SENEGAL', 'ARGENTINA',\n",
       "        'EL SALVADOR', 'IRAQ', 'PANAMA', 'INDIA'], dtype=object),\n",
       " 62)"
      ]
     },
     "execution_count": 9,
     "metadata": {},
     "output_type": "execute_result"
    }
   ],
   "source": [
    "countries = df['Country'].unique()\n",
    "countries, len(countries)"
   ]
  },
  {
   "cell_type": "code",
   "execution_count": 10,
   "metadata": {},
   "outputs": [
    {
     "data": {
      "image/png": "[encoded data removed]",
      "text/plain": [
       "<Figure size 864x288 with 1 Axes>"
      ]
     },
     "metadata": {},
     "output_type": "display_data"
    }
   ],
   "source": [
    "plt.style.use('dark_background')\n",
    "fig = plt.figure(figsize=(12,4))\n",
    "ax = plt.subplot()\n",
    "plt.bar(country_data.index, 'Country', data=country_data)\n",
    "plt.xticks(country_data.index, rotation='60')\n",
    "plt.title('Shark attacks per country')\n",
    "plt.xlabel('Countries')\n",
    "plt.ylabel('Counts')\n",
    "plt.show()"
   ]
  },
  {
   "cell_type": "markdown",
   "metadata": {},
   "source": [
    "# Looking into 'sex'"
   ]
  },
  {
   "cell_type": "code",
   "execution_count": 11,
   "metadata": {},
   "outputs": [
    {
     "data": {
      "text/plain": [
       "Index(['Case Number', 'Date', 'Year', 'Type', 'Country', 'Area', 'Location',\n",
       "       'Activity', 'Name', 'Sex ', 'Age', 'Injury', 'Fatal (Y/N)', 'Time',\n",
       "       'Species ', 'Investigator or Source', 'pdf', 'href formula', 'href',\n",
       "       'Case Number.1', 'Case Number.2', 'original order'],\n",
       "      dtype='object')"
      ]
     },
     "execution_count": 11,
     "metadata": {},
     "output_type": "execute_result"
    }
   ],
   "source": [
    "df.columns"
   ]
  },
  {
   "cell_type": "code",
   "execution_count": 12,
   "metadata": {},
   "outputs": [],
   "source": [
    "df.rename(columns={'Sex ':'sex', 'Species ': 'species'}, inplace=True)\n",
    "df.rename(str.lower, axis='columns', inplace=True)"
   ]
  },
  {
   "cell_type": "code",
   "execution_count": 13,
   "metadata": {},
   "outputs": [
    {
     "data": {
      "text/plain": [
       "M      1228\n",
       "F       193\n",
       "lli       1\n",
       "Name: sex, dtype: int64"
      ]
     },
     "execution_count": 13,
     "metadata": {},
     "output_type": "execute_result"
    }
   ],
   "source": [
    "df.sex.value_counts()"
   ]
  },
  {
   "cell_type": "code",
   "execution_count": 14,
   "metadata": {},
   "outputs": [
    {
     "name": "stderr",
     "output_type": "stream",
     "text": [
      "<ipython-input-14-e6d21d8b00c2>:1: SettingWithCopyWarning: \n",
      "A value is trying to be set on a copy of a slice from a DataFrame\n",
      "\n",
      "See the caveats in the documentation: https://pandas.pydata.org/pandas-docs/stable/user_guide/indexing.html#returning-a-view-versus-a-copy\n",
      "  df['sex'][df['sex'] == 'lli'] = 'M'\n"
     ]
    }
   ],
   "source": [
    "df['sex'][df['sex'] == 'lli'] = 'M'"
   ]
  },
  {
   "cell_type": "code",
   "execution_count": 15,
   "metadata": {},
   "outputs": [
    {
     "data": {
      "text/plain": [
       "(M    1229\n",
       " F     193\n",
       " Name: sex, dtype: int64,\n",
       " M    86.427567\n",
       " F    13.572433\n",
       " Name: sex, dtype: float64)"
      ]
     },
     "execution_count": 15,
     "metadata": {},
     "output_type": "execute_result"
    }
   ],
   "source": [
    "sex_percentage = df.sex.value_counts() * 100 / df.sex.count()\n",
    "df.sex.value_counts(), sex_percentage"
   ]
  },
  {
   "cell_type": "code",
   "execution_count": 16,
   "metadata": {},
   "outputs": [
    {
     "data": {
      "image/png": "[encoded data removed]",
      "text/plain": [
       "<Figure size 864x288 with 1 Axes>"
      ]
     },
     "metadata": {},
     "output_type": "display_data"
    }
   ],
   "source": [
    "fig = plt.figure(figsize=(12,4))\n",
    "ax = plt.subplot()\n",
    "sns.histplot(x='sex', data=df)\n",
    "plt.title('Shark attacks per gender')\n",
    "plt.xlabel('Gender')\n",
    "plt.ylabel('Counts')\n",
    "plt.show()"
   ]
  },
  {
   "cell_type": "markdown",
   "metadata": {},
   "source": [
    "# Look if the attack was fatal or not..."
   ]
  },
  {
   "cell_type": "code",
   "execution_count": 17,
   "metadata": {},
   "outputs": [
    {
     "data": {
      "text/plain": [
       "Index(['case number', 'date', 'year', 'type', 'country', 'area', 'location',\n",
       "       'activity', 'name', 'sex', 'age', 'injury', 'fatal (y/n)', 'time',\n",
       "       'species', 'investigator or source', 'pdf', 'href formula', 'href',\n",
       "       'case number.1', 'case number.2', 'original order'],\n",
       "      dtype='object')"
      ]
     },
     "execution_count": 17,
     "metadata": {},
     "output_type": "execute_result"
    }
   ],
   "source": [
    "df.columns"
   ]
  },
  {
   "cell_type": "code",
   "execution_count": 18,
   "metadata": {},
   "outputs": [
    {
     "data": {
      "text/plain": [
       "N       1186\n",
       "Y        232\n",
       " N         2\n",
       "M          1\n",
       "2017       1\n",
       "Name: fatal (y/n), dtype: int64"
      ]
     },
     "execution_count": 18,
     "metadata": {},
     "output_type": "execute_result"
    }
   ],
   "source": [
    "df['fatal (y/n)'].value_counts()"
   ]
  },
  {
   "cell_type": "code",
   "execution_count": 19,
   "metadata": {},
   "outputs": [
    {
     "name": "stderr",
     "output_type": "stream",
     "text": [
      "<ipython-input-19-d561d4d62759>:1: SettingWithCopyWarning: \n",
      "A value is trying to be set on a copy of a slice from a DataFrame\n",
      "\n",
      "See the caveats in the documentation: https://pandas.pydata.org/pandas-docs/stable/user_guide/indexing.html#returning-a-view-versus-a-copy\n",
      "  df['fatal (y/n)'][(df['fatal (y/n)'] == '2017') | (df['fatal (y/n)'] == 'M')] = 'unknown'\n"
     ]
    }
   ],
   "source": [
    "df['fatal (y/n)'][(df['fatal (y/n)'] == '2017') | (df['fatal (y/n)'] == 'M')] = 'unknown'"
   ]
  },
  {
   "cell_type": "code",
   "execution_count": 20,
   "metadata": {},
   "outputs": [
    {
     "name": "stderr",
     "output_type": "stream",
     "text": [
      "<ipython-input-20-14ab222ac970>:1: SettingWithCopyWarning: \n",
      "A value is trying to be set on a copy of a slice from a DataFrame\n",
      "\n",
      "See the caveats in the documentation: https://pandas.pydata.org/pandas-docs/stable/user_guide/indexing.html#returning-a-view-versus-a-copy\n",
      "  df['fatal (y/n)'][df['fatal (y/n)'] == ' N'] = 'N'\n"
     ]
    }
   ],
   "source": [
    "df['fatal (y/n)'][df['fatal (y/n)'] == ' N'] = 'N'"
   ]
  },
  {
   "cell_type": "code",
   "execution_count": 21,
   "metadata": {},
   "outputs": [
    {
     "data": {
      "text/plain": [
       "N          1188\n",
       "Y           232\n",
       "unknown       2\n",
       "Name: fatal (y/n), dtype: int64"
      ]
     },
     "execution_count": 21,
     "metadata": {},
     "output_type": "execute_result"
    }
   ],
   "source": [
    "df['fatal (y/n)'].value_counts()"
   ]
  },
  {
   "cell_type": "code",
   "execution_count": 22,
   "metadata": {},
   "outputs": [
    {
     "data": {
      "image/png": "[encoded data removed]",
      "text/plain": [
       "<Figure size 864x288 with 1 Axes>"
      ]
     },
     "metadata": {},
     "output_type": "display_data"
    }
   ],
   "source": [
    "fig = plt.figure(figsize=(12,4))\n",
    "ax = plt.subplot()\n",
    "sns.histplot(x='fatal (y/n)', data=df)\n",
    "plt.title('Shark attacks cassified by fatal or not')\n",
    "plt.xlabel('Fatal (Y/N)')\n",
    "plt.ylabel('Counts')\n",
    "plt.show()"
   ]
  },
  {
   "cell_type": "markdown",
   "metadata": {},
   "source": [
    "# Looking into 'type'"
   ]
  },
  {
   "cell_type": "code",
   "execution_count": 23,
   "metadata": {},
   "outputs": [
    {
     "data": {
      "text/plain": [
       "Unprovoked      1288\n",
       "Provoked         107\n",
       "Boating           17\n",
       "Invalid            5\n",
       "Sea Disaster       5\n",
       "Name: type, dtype: int64"
      ]
     },
     "execution_count": 23,
     "metadata": {},
     "output_type": "execute_result"
    }
   ],
   "source": [
    "df.type.value_counts()"
   ]
  },
  {
   "cell_type": "code",
   "execution_count": 24,
   "metadata": {},
   "outputs": [
    {
     "name": "stderr",
     "output_type": "stream",
     "text": [
      "<ipython-input-24-63ece8d39531>:1: SettingWithCopyWarning: \n",
      "A value is trying to be set on a copy of a slice from a DataFrame\n",
      "\n",
      "See the caveats in the documentation: https://pandas.pydata.org/pandas-docs/stable/user_guide/indexing.html#returning-a-view-versus-a-copy\n",
      "  df['type'][(df.type == 'Boating') | (df.type == 'Invalid') | (df.type == 'N')] = 'unknown'\n"
     ]
    }
   ],
   "source": [
    "df['type'][(df.type == 'Boating') | (df.type == 'Invalid') | (df.type == 'N')] = 'unknown'"
   ]
  },
  {
   "cell_type": "code",
   "execution_count": 25,
   "metadata": {},
   "outputs": [
    {
     "name": "stderr",
     "output_type": "stream",
     "text": [
      "<ipython-input-25-ff304176d8ec>:1: SettingWithCopyWarning: \n",
      "A value is trying to be set on a copy of a slice from a DataFrame\n",
      "\n",
      "See the caveats in the documentation: https://pandas.pydata.org/pandas-docs/stable/user_guide/indexing.html#returning-a-view-versus-a-copy\n",
      "  df['type'][(df.type == 'Sea Disaster')] = 'Unprovoked'\n"
     ]
    }
   ],
   "source": [
    "df['type'][(df.type == 'Sea Disaster')] = 'Unprovoked'"
   ]
  },
  {
   "cell_type": "code",
   "execution_count": 26,
   "metadata": {},
   "outputs": [
    {
     "data": {
      "text/plain": [
       "Unprovoked    1293\n",
       "Provoked       107\n",
       "unknown         22\n",
       "Name: type, dtype: int64"
      ]
     },
     "execution_count": 26,
     "metadata": {},
     "output_type": "execute_result"
    }
   ],
   "source": [
    "df.type.value_counts()"
   ]
  },
  {
   "cell_type": "code",
   "execution_count": 27,
   "metadata": {},
   "outputs": [
    {
     "data": {
      "image/png": "[encoded data removed]",
      "text/plain": [
       "<Figure size 864x288 with 1 Axes>"
      ]
     },
     "metadata": {},
     "output_type": "display_data"
    }
   ],
   "source": [
    "fig = plt.figure(figsize=(12,4))\n",
    "ax = plt.subplot()\n",
    "sns.histplot(x='type', data=df)\n",
    "plt.title('Shark attack types')\n",
    "plt.xlabel('Type')\n",
    "plt.ylabel('Counts')\n",
    "plt.show()"
   ]
  },
  {
   "cell_type": "markdown",
   "metadata": {},
   "source": [
    "# Looking into 'activity'"
   ]
  },
  {
   "cell_type": "code",
   "execution_count": 28,
   "metadata": {},
   "outputs": [
    {
     "data": {
      "text/plain": [
       "Surfing                                                  404\n",
       "Swimming                                                 194\n",
       "Spearfishing                                             100\n",
       "Wading                                                    46\n",
       "Fishing                                                   45\n",
       "                                                        ... \n",
       "Washing sand off a speared fish                            1\n",
       "Holding shark on leader & dangling it above the water      1\n",
       "Skindiving, fish at belt                                   1\n",
       "Helping friend land hooked shark                           1\n",
       "Feeding mullet to sharks                                   1\n",
       "Name: activity, Length: 338, dtype: int64"
      ]
     },
     "execution_count": 28,
     "metadata": {},
     "output_type": "execute_result"
    }
   ],
   "source": [
    "df.activity.value_counts()"
   ]
  },
  {
   "cell_type": "code",
   "execution_count": 29,
   "metadata": {},
   "outputs": [],
   "source": [
    "df.activity = df.activity.str.lower()\n",
    "df.activity = df.activity.str.strip()"
   ]
  },
  {
   "cell_type": "code",
   "execution_count": 30,
   "metadata": {},
   "outputs": [],
   "source": [
    "activity_array = df.activity.unique()"
   ]
  },
  {
   "cell_type": "code",
   "execution_count": 31,
   "metadata": {},
   "outputs": [],
   "source": [
    "activity_serie = df.activity.value_counts()"
   ]
  },
  {
   "cell_type": "code",
   "execution_count": 32,
   "metadata": {},
   "outputs": [
    {
     "data": {
      "text/plain": [
       "Index(['surfing', 'swimming', 'spearfishing', 'fishing', 'wading',\n",
       "       'body boarding', 'snorkeling', 'standing', 'scuba diving',\n",
       "       'body surfing', 'treading water', 'diving', 'boogie boarding',\n",
       "       'kayaking', 'free diving', 'surf skiing', 'walking',\n",
       "       'free diving for abalone', 'bathing', 'paddle boarding', 'windsurfing',\n",
       "       'surfing (sitting on his board)', 'surf-skiing', 'diving for abalone',\n",
       "       'floating', 'playing', 'jumping', 'hookah diving for abalone',\n",
       "       'spearfishing / scuba diving (at surface)', 'paddleskiing',\n",
       "       'kite surfing', 'scuba diving (but on surface)',\n",
       "       'stand-up paddleboarding', 'lifesaving drill', 'playing in the surf',\n",
       "       'jumped into the water', 'sitting on surfboard',\n",
       "       'swimming from the new venture', 'kayaking / fishing',\n",
       "       'free diving & spearfishing'],\n",
       "      dtype='object')"
      ]
     },
     "execution_count": 32,
     "metadata": {},
     "output_type": "execute_result"
    }
   ],
   "source": [
    "activity_serie.index[:40]"
   ]
  },
  {
   "cell_type": "code",
   "execution_count": 33,
   "metadata": {},
   "outputs": [],
   "source": [
    "patt = ['surfing', 'swimming', 'spearfishing', 'wading', 'fishing',\n",
    "       'body boarding', 'snorkeling', 'standing', 'unknown', 'scuba diving',\n",
    "       'body surfing', 'diving', 'treading water', 'boogie boarding',\n",
    "       'free diving', 'surf skiing', 'walking', 'free diving for abalone',\n",
    "       'paddle boarding', 'windsurfing', 'bathing',\n",
    "       'surfing (sitting on his board)', 'surf-skiing', 'unprovoked',\n",
    "       'floating', 'diving for abalone', 'playing',\n",
    "       'hookah diving for abalone', 'jumping',\n",
    "       'spearfishing / scuba diving (at surface)', 'kayaking', 'kite surfing',\n",
    "       'scuba diving (but on surface)', 'paddleskiing',\n",
    "       'stand-up paddleboarding', 'swimming / snorkeling',\n",
    "       'paddling on surfboard', 'surfing, paddling seawards',\n",
    "       'free diving, spearfishing', 'sup']"
   ]
  },
  {
   "cell_type": "markdown",
   "metadata": {},
   "source": [
    "# Looking into dates"
   ]
  },
  {
   "cell_type": "code",
   "execution_count": 35,
   "metadata": {},
   "outputs": [
    {
     "data": {
      "text/plain": [
       "Index(['case number', 'date', 'year', 'type', 'country', 'area', 'location',\n",
       "       'activity', 'name', 'sex', 'age', 'injury', 'fatal (y/n)', 'time',\n",
       "       'species', 'investigator or source', 'pdf', 'href formula', 'href',\n",
       "       'case number.1', 'case number.2', 'original order'],\n",
       "      dtype='object')"
      ]
     },
     "execution_count": 35,
     "metadata": {},
     "output_type": "execute_result"
    }
   ],
   "source": [
    "df.columns"
   ]
  },
  {
   "cell_type": "code",
   "execution_count": 36,
   "metadata": {},
   "outputs": [],
   "source": [
    "df.rename(columns={'case number':'case_number'}, inplace=True)"
   ]
  },
  {
   "cell_type": "code",
   "execution_count": 37,
   "metadata": {},
   "outputs": [],
   "source": [
    "df['_year'] = df.case_number.str.split('.')"
   ]
  },
  {
   "cell_type": "code",
   "execution_count": 38,
   "metadata": {},
   "outputs": [
    {
     "name": "stderr",
     "output_type": "stream",
     "text": [
      "/Users/gerardovitaleerrico/opt/anaconda3/lib/python3.8/site-packages/pandas/core/indexing.py:670: SettingWithCopyWarning: \n",
      "A value is trying to be set on a copy of a slice from a DataFrame\n",
      "\n",
      "See the caveats in the documentation: https://pandas.pydata.org/pandas-docs/stable/user_guide/indexing.html#returning-a-view-versus-a-copy\n",
      "  iloc._setitem_with_indexer(indexer, value)\n"
     ]
    }
   ],
   "source": [
    "df['_year'].loc[df._year.str.len() < 3] = np.nan"
   ]
  },
  {
   "cell_type": "code",
   "execution_count": 39,
   "metadata": {},
   "outputs": [],
   "source": [
    "df['months'] = df._year.str[1]"
   ]
  },
  {
   "cell_type": "code",
   "execution_count": 40,
   "metadata": {},
   "outputs": [
    {
     "name": "stderr",
     "output_type": "stream",
     "text": [
      "<ipython-input-40-61f9002f3cb5>:1: SettingWithCopyWarning: \n",
      "A value is trying to be set on a copy of a slice from a DataFrame\n",
      "\n",
      "See the caveats in the documentation: https://pandas.pydata.org/pandas-docs/stable/user_guide/indexing.html#returning-a-view-versus-a-copy\n",
      "  df['months'][df.months == '00'] = np.nan\n"
     ]
    }
   ],
   "source": [
    "df['months'][df.months == '00'] = np.nan"
   ]
  },
  {
   "cell_type": "code",
   "execution_count": 41,
   "metadata": {},
   "outputs": [],
   "source": [
    "df.date = pd.to_datetime(df.date, format='%m', errors='coerce')"
   ]
  },
  {
   "cell_type": "code",
   "execution_count": 42,
   "metadata": {},
   "outputs": [],
   "source": [
    "months_data = df.months.value_counts().to_frame()"
   ]
  },
  {
   "cell_type": "code",
   "execution_count": 43,
   "metadata": {},
   "outputs": [],
   "source": [
    "months_data = months_data.sort_index()"
   ]
  },
  {
   "cell_type": "code",
   "execution_count": 44,
   "metadata": {},
   "outputs": [
    {
     "data": {
      "image/png": "[encoded data removed]",
      "text/plain": [
       "<Figure size 864x288 with 1 Axes>"
      ]
     },
     "metadata": {},
     "output_type": "display_data"
    }
   ],
   "source": [
    "fig = plt.figure(figsize=(12,4))\n",
    "ax = plt.subplot()\n",
    "sns.barplot(x=months_data.index, y='months', data=months_data, color='lightblue')\n",
    "plt.title('Tendency of shark attacks')\n",
    "plt.xlabel('Months')\n",
    "plt.ylabel('Counts')\n",
    "plt.show()"
   ]
  },
  {
   "cell_type": "markdown",
   "metadata": {},
   "source": [
    "# Looking into 'age'"
   ]
  },
  {
   "cell_type": "code",
   "execution_count": 45,
   "metadata": {},
   "outputs": [
    {
     "data": {
      "text/plain": [
       "Index(['case_number', 'date', 'year', 'type', 'country', 'area', 'location',\n",
       "       'activity', 'name', 'sex', 'age', 'injury', 'fatal (y/n)', 'time',\n",
       "       'species', 'investigator or source', 'pdf', 'href formula', 'href',\n",
       "       'case number.1', 'case number.2', 'original order', '_year', 'months'],\n",
       "      dtype='object')"
      ]
     },
     "execution_count": 45,
     "metadata": {},
     "output_type": "execute_result"
    }
   ],
   "source": [
    "df.columns"
   ]
  },
  {
   "cell_type": "code",
   "execution_count": 46,
   "metadata": {},
   "outputs": [
    {
     "data": {
      "text/plain": [
       "array(['57', '18', '15', '32', '21', '30', '60', '33', '19', '25', '10',\n",
       "       '69', '55', '35', '20', '54', '22', '31', '40', '37', '13', '34',\n",
       "       '50', '46', '48', '17', '28', '65', '73', '58', '36', '60s', '51',\n",
       "       '61', '59', '42', '6', '23', '29', '39', '24', '12', '26', '11',\n",
       "       '71', '43', '44', '14', '27', '62', '52', '38', '68', '16', '47',\n",
       "       '63', '70', '9', '41', '40s', '53', '20s', '7', '66', '45', '74',\n",
       "       '64', '8', '56', '49', '18 or 20', 'Teen', '30s', '77', '84',\n",
       "       '\\xa0 ', ' ', '30 or 36', '6½', '5', ' 30', ' 28', \"60's\", '>50',\n",
       "       '30 & 32', '13 or 18', '7 or 8', '9 or 10', '13 or 14'],\n",
       "      dtype=object)"
      ]
     },
     "execution_count": 46,
     "metadata": {},
     "output_type": "execute_result"
    }
   ],
   "source": [
    "df.age.unique()"
   ]
  },
  {
   "cell_type": "code",
   "execution_count": 47,
   "metadata": {},
   "outputs": [
    {
     "data": {
      "text/plain": [
       "19          63\n",
       "18          58\n",
       "15          54\n",
       "20          53\n",
       "17          53\n",
       "            ..\n",
       "Teen         1\n",
       " 30          1\n",
       "40s          1\n",
       "13 or 14     1\n",
       "             1\n",
       "Name: age, Length: 89, dtype: int64"
      ]
     },
     "execution_count": 47,
     "metadata": {},
     "output_type": "execute_result"
    }
   ],
   "source": [
    "df.age.value_counts()"
   ]
  }
 ],
 "metadata": {
  "kernelspec": {
   "display_name": "Python 3",
   "language": "python",
   "name": "python3"
  },
  "language_info": {
   "codemirror_mode": {
    "name": "ipython",
    "version": 3
   },
   "file_extension": ".py",
   "mimetype": "text/x-python",
   "name": "python",
   "nbconvert_exporter": "python",
   "pygments_lexer": "ipython3",
   "version": "3.8.3"
  }
 },
 "nbformat": 4,
 "nbformat_minor": 4
}
